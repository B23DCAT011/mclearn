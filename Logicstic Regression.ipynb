{
 "cells": [
  {
   "cell_type": "code",
   "execution_count": 2,
   "id": "f1f7ee9a-b4f5-4c96-95f1-f8f029763377",
   "metadata": {},
   "outputs": [],
   "source": [
    "import numpy as np\n",
    "def sigmoid(z):\n",
    "    return 1 / (1 + np.exp(-z))\n",
    "def prod(w,X):\n",
    "    return sigmoid(X.dot(w))\n",
    "\n",
    "def loss(w,X,y,lam):\n",
    "    z = prod(w,X)\n",
    "    return -np.mean(y*np.log(z) + (1-y)*np.log(1-z)) + 0.5*lam/X.shape[0]*np.sum(w*w)"
   ]
  },
  {
   "cell_type": "code",
   "execution_count": 3,
   "id": "9841a7c3-bb2f-46cd-ae2a-e38bf8f23435",
   "metadata": {},
   "outputs": [],
   "source": [
    "def logistic_regression(w_init, X, y, lam = 0.001, lr = 0.1, nepoches = 2000):\n",
    "# lam - reg paramether, lr - learning rate, nepoches - number of epoches\n",
    "    N, d = X.shape[0], X.shape[1]\n",
    "    w = w_old = w_init\n",
    "    loss_hist = [loss(w_init, X, y, lam)] # store history of loss in loss_hist\n",
    "    ep = 0\n",
    "    while ep < nepoches:\n",
    "        ep += 1\n",
    "        mix_ids = np.random.permutation(N)\n",
    "        for i in mix_ids:\n",
    "            xi = X[i]\n",
    "            yi = y[i]\n",
    "            zi = sigmoid(xi.dot(w))\n",
    "            w = w - lr*((zi - yi)*xi + lam*w)\n",
    "        loss_hist.append(loss(w, X, y, lam))\n",
    "        if np.linalg.norm(w - w_old)/d < 1e-6:\n",
    "            break\n",
    "        w_old = w\n",
    "    return w, loss_hist"
   ]
  },
  {
   "cell_type": "code",
   "execution_count": 4,
   "id": "d684130e-f4f0-481c-9a6a-b2d091cc4b88",
   "metadata": {},
   "outputs": [
    {
     "name": "stdout",
     "output_type": "stream",
     "text": [
      "[ 1.4820024  -4.09738582]\n",
      "0.40197407236094945\n"
     ]
    }
   ],
   "source": [
    "X = np.array([[0.50, 0.75, 1.00, 1.25, 1.50, 1.75, 1.75, 2.00, 2.25, 2.50,\n",
    "2.75, 3.00, 3.25, 3.50, 4.00, 4.25, 4.50, 4.75, 5.00, 5.50]]).T\n",
    "y = np.array([0, 0, 0, 0, 0, 0, 1, 0, 1, 0, 1, 0, 1, 0, 1, 1, 1, 1, 1, 1])\n",
    "# bias trick\n",
    "Xbar = np.concatenate((X, np.ones((X.shape[0], 1))), axis = 1)\n",
    "w_init = np.random.randn(Xbar.shape[1])\n",
    "lam = 0.0001\n",
    "w, loss_hist = logistic_regression(w_init, Xbar, y, lam, lr = 0.05, nepoches = 500)\n",
    "print(w)\n",
    "print(loss(w, Xbar, y, lam))"
   ]
  },
  {
   "cell_type": "code",
   "execution_count": 17,
   "id": "adb00864-990d-4436-aead-784be4a39e58",
   "metadata": {},
   "outputs": [
    {
     "name": "stdout",
     "output_type": "stream",
     "text": [
      "Train set: (12780, 784), Test set: (2000, 784)\n"
     ]
    }
   ],
   "source": [
    "import numpy as np\n",
    "from sklearn.datasets import fetch_openml\n",
    "from sklearn.model_selection import train_test_split\n",
    "\n",
    "# Tải dữ liệu MNIST\n",
    "mnist = fetch_openml('mnist_784', version=1, as_frame=False)\n",
    "\n",
    "# Chuyển đổi nhãn về dạng số nguyên\n",
    "X_all = mnist.data\n",
    "y_all = mnist.target.astype(np.uint8)  # Chuyển đổi về số nguyên\n",
    "\n",
    "# Lọc các chữ số 0 và 1\n",
    "X0 = X_all[y_all == 0]  # Chọn tất cả ảnh có nhãn 0\n",
    "X1 = X_all[y_all == 1]  # Chọn tất cả ảnh có nhãn 1\n",
    "y0 = np.zeros(X0.shape[0], dtype=np.uint8)  # Gán nhãn 0\n",
    "y1 = np.ones(X1.shape[0], dtype=np.uint8)   # Gán nhãn 1\n",
    "\n",
    "# Gộp dữ liệu\n",
    "X = np.vstack((X0, X1))  # Kết hợp tất cả ảnh\n",
    "y = np.hstack((y0, y1))  # Kết hợp tất cả nhãn\n",
    "\n",
    "# Chia tập dữ liệu thành tập huấn luyện và kiểm tra\n",
    "X_train, X_test, y_train, y_test = train_test_split(X, y, test_size=2000, random_state=42)\n",
    "\n",
    "# Kiểm tra kích thước dữ liệu\n",
    "print(f\"Train set: {X_train.shape}, Test set: {X_test.shape}\")\n"
   ]
  },
  {
   "cell_type": "code",
   "execution_count": 19,
   "id": "6f61333e-dcbe-4c59-aa9b-2c4bd60809c8",
   "metadata": {},
   "outputs": [
    {
     "name": "stdout",
     "output_type": "stream",
     "text": [
      "Accuracy 99.85 %\n"
     ]
    }
   ],
   "source": [
    "model = LogisticRegression(C = 1e5)\n",
    "model.fit(X_train,y_train)\n",
    "\n",
    "y_pred = model.predict(X_test)\n",
    "print(\"Accuracy %.2f %%\" % (100*accuracy_score(y_test, y_pred.tolist())))"
   ]
  },
  {
   "cell_type": "code",
   "execution_count": 46,
   "id": "3501589c-1427-4f83-ab46-4f2224f756b2",
   "metadata": {},
   "outputs": [
    {
     "data": {
      "image/png": "[encoded data removed]",
      "text/plain": [
       "<Figure size 640x480 with 1 Axes>"
      ]
     },
     "metadata": {},
     "output_type": "display_data"
    },
    {
     "data": {
      "image/png": "[encoded data removed]",
      "text/plain": [
       "<Figure size 300x100 with 3 Axes>"
      ]
     },
     "metadata": {},
     "output_type": "display_data"
    }
   ],
   "source": [
    "import numpy as np\n",
    "import matplotlib.pyplot as plt\n",
    "from matplotlib.backends.backend_pdf import PdfPages\n",
    "\n",
    "def display_network(X):\n",
    "    \"\"\"Hiển thị một số hình ảnh từ dữ liệu X.\"\"\"\n",
    "    m = min(10, X.shape[0])  # Hiển thị tối đa 10 ảnh\n",
    "    fig, axes = plt.subplots(1, m, figsize=(m, 1))\n",
    "\n",
    "    for i in range(m):\n",
    "        ax = axes[i]\n",
    "        ax.imshow(X[i].reshape(28, 28), cmap=\"gray\")\n",
    "        ax.axis(\"off\")\n",
    "\n",
    "    plt.show()\n",
    "    return fig\n",
    "\n",
    "# Lấy các mẫu dự đoán sai\n",
    "mis = np.where((y_pred - y_test) != 0)[0]\n",
    "Xmis = X_test[mis, :]\n",
    "\n",
    "# Lưu ảnh vào file PDF\n",
    "filename = 'mnist_mis.pdf'\n",
    "with PdfPages(filename) as pdf:\n",
    "    plt.axis('off')\n",
    "    fig = display_network(Xmis)  # Gọi hàm đã chỉnh sửa\n",
    "    pdf.savefig(fig, bbox_inches='tight')\n",
    "    plt.close(fig)\n"
   ]
  },
  {
   "cell_type": "code",
   "execution_count": null,
   "id": "be544a37-02b4-4734-860b-a30258300b1b",
   "metadata": {},
   "outputs": [],
   "source": []
  }
 ],
 "metadata": {
  "kernelspec": {
   "display_name": "Python 3 (ipykernel)",
   "language": "python",
   "name": "python3"
  },
  "language_info": {
   "codemirror_mode": {
    "name": "ipython",
    "version": 3
   },
   "file_extension": ".py",
   "mimetype": "text/x-python",
   "name": "python",
   "nbconvert_exporter": "python",
   "pygments_lexer": "ipython3",
   "version": "3.12.4"
  }
 },
 "nbformat": 4,
 "nbformat_minor": 5
}
